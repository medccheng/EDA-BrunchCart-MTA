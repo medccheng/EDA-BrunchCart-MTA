{
 "cells": [
  {
   "cell_type": "markdown",
   "id": "1cb0730c",
   "metadata": {},
   "source": [
    "# Brunch Cart in the NYC Financial District"
   ]
  },
  {
   "cell_type": "markdown",
   "id": "b102ee6f",
   "metadata": {},
   "source": [
    "Finding the Best Brunch Cart Spot in the NYC Financial District\n",
    "By: Med Cheng Billian"
   ]
  },
  {
   "cell_type": "markdown",
   "id": "35980dfb",
   "metadata": {},
   "source": [
    "# Abstract"
   ]
  },
  {
   "cell_type": "markdown",
   "id": "eb03e98e",
   "metadata": {},
   "source": [
    "The goal of this project is to help a friend create business operations plan that is location based for a mobile Brunch Cart in the NYC Financial District. I used the MTA Turnstile data to help identify which subway station in the Financial district area has the highest foot traffic during the weekdays. After identifying the top subway station in the Financial District, I filtered and cleaned the whole data set which I then used to build a couple of visualizations. The charts created were used to further understand the weekday foot traffic data on a specific station for a particular period of time. "
   ]
  },
  {
   "cell_type": "markdown",
   "id": "3268f545",
   "metadata": {},
   "source": [
    "# Design"
   ]
  },
  {
   "cell_type": "markdown",
   "id": "a47b1691",
   "metadata": {},
   "source": [
    "The whole dataset was downloaded from http://web.mta.info/developers/turnstile.html. Each data entry represents the entry/exit register values of each turnstile at a control area of a specific NYC subway station on a 4 hour interval basis (24 hour format). I used this data to identify which subway station, particularly in the Financial district, has the highest foot traffic during weekdays at a particular period of time."
   ]
  },
  {
   "cell_type": "markdown",
   "id": "78b281fc",
   "metadata": {},
   "source": [
    "# Data"
   ]
  },
  {
   "cell_type": "markdown",
   "id": "b6c7ddaf",
   "metadata": {},
   "source": [
    "The dataset contains (4 hour interval) records from May 2021 to July 2021 with 11 columns for each row: 7 columns are categorical; 2 are numerical; and 2 are ordinal or datetime type. A couple of columns represent register values of entry/exit for a particular combination of columns. To limit the scope of this project, I only used the entry register values and ignored the exit register values. Furthermore, 7 individual columns were grouped into more general categories, while the date and time columns were used to extract more useful categorical fields like 'Day of the Week' and 'AM/PM'.\n",
    "\n",
    "The original dataset contains data from all the NYC subway stations on a 4 hour interval basis (24 hour format). I narrowed this down by filtering data with the following criteria: Data should fall in Weekday from 8AM to 4PM only; and Stations should be located in the NYC Financial District."
   ]
  },
  {
   "cell_type": "markdown",
   "id": "05381499",
   "metadata": {},
   "source": [
    "# Algorithms"
   ]
  },
  {
   "cell_type": "markdown",
   "id": "713d4881",
   "metadata": {},
   "source": [
    "Filtering data to the Subway Stations located in the Financial District using a manually created list.\n",
    "Filtering data to 8am, 12pm and 4pm data records.\n",
    "Dropping unnecessary columns, like 'EXIT'.\n",
    "Recursively computing for the difference of 'ENTRIES' field to retrieve the DELTA within that period.\n",
    "Checking/Cleaning for NaN and Negative values.\n",
    "Grouping records through categorical columns to compute for the sum of delta entries of each Financial District station.\n",
    "Extracting the 'DAYOFWEEK','PERIOD', and 'MONTH' columns from the 'DATE' and 'TIME' fields\n",
    "Aggregating the average delta entries for each Station's day of the week."
   ]
  },
  {
   "cell_type": "markdown",
   "id": "1e844a3c",
   "metadata": {},
   "source": [
    "# Tools"
   ]
  },
  {
   "cell_type": "markdown",
   "id": "b6f241b4",
   "metadata": {},
   "source": [
    "NumPy and Pandas for data manipulation\n",
    "SQLLite and SqlAlchemy for Database and Data Import\n",
    "Matplotlib and Seaborn for plotting and visualizations"
   ]
  },
  {
   "cell_type": "markdown",
   "id": "1e4bfb03",
   "metadata": {},
   "source": [
    "# Communication"
   ]
  },
  {
   "cell_type": "markdown",
   "id": "22b2ad15",
   "metadata": {},
   "source": [
    "A PDF presentation file was prepared to present this project."
   ]
  }
 ],
 "metadata": {
  "kernelspec": {
   "display_name": "Python [conda env:metis] *",
   "language": "python",
   "name": "conda-env-metis-py"
  },
  "language_info": {
   "codemirror_mode": {
    "name": "ipython",
    "version": 3
   },
   "file_extension": ".py",
   "mimetype": "text/x-python",
   "name": "python",
   "nbconvert_exporter": "python",
   "pygments_lexer": "ipython3",
   "version": "3.8.10"
  }
 },
 "nbformat": 4,
 "nbformat_minor": 5
}
